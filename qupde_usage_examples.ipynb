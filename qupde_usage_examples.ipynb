{
 "cells": [
  {
   "cell_type": "markdown",
   "metadata": {},
   "source": [
    "# QuPDE usage examples\n",
    "\n",
    "QuPDE is a Python library that finds an optimal and monomial quadratic transformation (quadratization) for nonquadratic PDEs using Sympy. QuPDE handles one-dimensional PDEs that are polynomial or rational. We present some usage examples where we showcast some functionalities of our algorithm.\n",
    "\n",
    "First we import Sympy and QuPDE "
   ]
  },
  {
   "cell_type": "code",
   "execution_count": 17,
   "metadata": {},
   "outputs": [],
   "source": [
    "import sympy as sp\n",
    "from qupde.quadratize import quadratize"
   ]
  },
  {
   "cell_type": "markdown",
   "metadata": {},
   "source": [
    "## General usage\n",
    "### Dym equation \n",
    "\n",
    "The Harry Dym equation describes the dynamics of several physical systems. This equation\n",
    "is completely integrable and represents a system in which dispersion and nonlinearity are coupled\n",
    "together: \n",
    "\n",
    "$$u_{t}=u^{3}u_{xxx}.$$\n",
    "\n",
    "Let us find a quadratization for the Dym equation using QuPDE. First, we write the differential equation using Sympy objects:"
   ]
  },
  {
   "cell_type": "code",
   "execution_count": 2,
   "metadata": {},
   "outputs": [],
   "source": [
    "t, x = sp.symbols('t x')\n",
    "u = sp.Function('u')(t,x)\n",
    "\n",
    "u_t = u**3 * sp.Derivative(u, x, 3)"
   ]
  },
  {
   "cell_type": "markdown",
   "metadata": {},
   "source": [
    "To find a quadratization for a PDE we use the main function of the software called *quadratize*. This function receives as input the PDE as a list of tuples, where each tuple represents a differential equation. The first entry of each tuple is an undefined function and the second entry is its corresponding differential equation right-hand side. In our example: "
   ]
  },
  {
   "cell_type": "code",
   "execution_count": 30,
   "metadata": {},
   "outputs": [
    {
     "data": {
      "text/plain": [
       "([u**3, u*u_x1**2], [], 21)"
      ]
     },
     "execution_count": 30,
     "metadata": {},
     "output_type": "execute_result"
    }
   ],
   "source": [
    "quadratize([(u, u_t)])"
   ]
  },
  {
   "cell_type": "markdown",
   "metadata": {},
   "source": [
    "This function returns a tuple with:\n",
    "- A list with the auxiliary polynomial variables\n",
    "- A list with the introduced rational variables \n",
    "- The number of quadratizations attempted (nodes visited)\n",
    "\n",
    "Now, if we want to see the quadratization and the transformed PDE in a more readable format, we call the same function but with the optional *printing* parameter with the available printing options: \n",
    "- `'pprint'` for pretty printing (Sympy's functionality).\n",
    "- `'latex'` for printing the result in LaTeX format. "
   ]
  },
  {
   "cell_type": "code",
   "execution_count": 31,
   "metadata": {},
   "outputs": [
    {
     "name": "stdout",
     "output_type": "stream",
     "text": [
      "\n",
      "Quadratization:\n",
      "      3\n",
      "w₀ = u \n",
      "          2\n",
      "w₁ = u⋅uₓ₁ \n",
      "\n",
      "Quadratic PDE:\n",
      "                             2⋅w₀ₓ₁⋅w₀ₓ₂\n",
      "w₀ₜ = w₀⋅w₀ₓ₃ - 10⋅w₀⋅w₁ₓ₁ + ───────────\n",
      "                                  9     \n",
      "                2⋅w₀ₓ₂⋅w₀ₓ₃                                       \n",
      "w₁ₜ = w₀⋅w₁ₓ₃ - ─────────── + 4⋅w₀ₓ₂⋅w₁ₓ₁ + 4⋅w₀ₓ₃⋅w₁ - 24⋅w₁⋅w₁ₓ₁\n",
      "                     3                                            \n",
      "uₜ = uₓ₃⋅w₀\n"
     ]
    },
    {
     "data": {
      "text/plain": [
       "([u**3, u*u_x1**2], [], 21)"
      ]
     },
     "execution_count": 31,
     "metadata": {},
     "output_type": "execute_result"
    }
   ],
   "source": [
    "quadratize([(u, u_t)], printing='pprint')"
   ]
  },
  {
   "cell_type": "code",
   "execution_count": 32,
   "metadata": {},
   "outputs": [
    {
     "name": "stdout",
     "output_type": "stream",
     "text": [
      "\n",
      "Quadratization:\n",
      "w_{0} = u^{3}\n",
      "w_{1} = u u_{x1}^{2}\n",
      "\n",
      "Quadratic PDE:\n",
      "w_{0t} = w_{0} w_{0x3} - 10 w_{0} w_{1x1} + \\frac{2 w_{0x1} w_{0x2}}{9}\n",
      "w_{1t} = w_{0} w_{1x3} - \\frac{2 w_{0x2} w_{0x3}}{3} + 4 w_{0x2} w_{1x1} + 4 w_{0x3} w_{1} - 24 w_{1} w_{1x1}\n",
      "u_{t} = u_{x3} w_{0}\n"
     ]
    },
    {
     "data": {
      "text/plain": [
       "([u**3, u*u_x1**2], [], 21)"
      ]
     },
     "execution_count": 32,
     "metadata": {},
     "output_type": "execute_result"
    }
   ],
   "source": [
    "quadratize([(u, u_t)], printing='latex')"
   ]
  },
  {
   "cell_type": "markdown",
   "metadata": {},
   "source": [
    "## *Quadratize* parameters\n",
    "\n",
    "The *quadratize* function has additional parameters that the user can modify. These correspond to: \n",
    "1. The number of spatial derivatives of the auxiliary variables to include in the quadratic transformations \n",
    "2. The heuristic to sort each set of new variables introduced when searching for an optimal quadratization.\n",
    "3. The bound of the maximum number of variables to explore. \n",
    "4. The symbol of the first independent variable (default is *t*). \n",
    "5. The maximum order of spatial derivatives of the unknown function allowed within the auxiliary variables. \n",
    "6. The search algorithm.\n",
    "\n",
    "We offer examples to show how some of them work. "
   ]
  },
  {
   "cell_type": "markdown",
   "metadata": {},
   "source": [
    "### 1. Change the number of spatial derivatives of the auxiliary variables\n",
    "By default this value is set to 3. It is important to note that the number of spatial derivatives taken directly affects the algorithm's ability to find a quadratization. For example, If we set this value to 2 for the Dym equation, we obtain an unsuccesful search. "
   ]
  },
  {
   "cell_type": "code",
   "execution_count": 33,
   "metadata": {},
   "outputs": [
    {
     "name": "stdout",
     "output_type": "stream",
     "text": [
      "Quadratization not found\n"
     ]
    },
    {
     "data": {
      "text/plain": [
       "([], 109)"
      ]
     },
     "execution_count": 33,
     "metadata": {},
     "output_type": "execute_result"
    }
   ],
   "source": [
    "quadratize([(u, u_t)], n_diff=2)"
   ]
  },
  {
   "cell_type": "markdown",
   "metadata": {},
   "source": [
    "In some cases, increasing this parameter will be required to obtain a quadratization. "
   ]
  },
  {
   "cell_type": "markdown",
   "metadata": {},
   "source": [
    "### 1. Change sorting heuristic\n",
    "In the algorithm, there are three heuristics implemented: \n",
    "- By order of derivatives and total degree of the monomials (`by_order_degree`)\n",
    "- By total degree and order of derivatives of the monomials (`by_degree_order`). \n",
    "- By the function: $degree + 2 \\cdot order$ (`by_fun`).\n",
    "\n",
    "The default option implemented is `by_fun`. If we want to use the sorting function `by_order_degree` to find a quadratization, we run"
   ]
  },
  {
   "cell_type": "code",
   "execution_count": 4,
   "metadata": {},
   "outputs": [
    {
     "name": "stdout",
     "output_type": "stream",
     "text": [
      "\n",
      "Quadratization:\n",
      "      3\n",
      "w₀ = u \n",
      "          2\n",
      "w₁ = u⋅uₓ₁ \n",
      "\n",
      "Quadratic PDE:\n",
      "w₀ₜ = w₀⋅w₀ₓ₃ - 2⋅w₀ₓ₁⋅w₀ₓ₂ + 10⋅w₀ₓ₁⋅w₁\n",
      "                              2⋅w₀ₓ₂⋅w₀ₓ₃                           \n",
      "w₁ₜ = w₀⋅w₁ₓ₃ + 2⋅w₀ₓ₁⋅w₁ₓ₂ - ─────────── + 2⋅w₀ₓ₂⋅w₁ₓ₁ + 12⋅w₁⋅w₁ₓ₁\n",
      "                                   3                                \n",
      "uₜ = uₓ₃⋅w₀\n"
     ]
    },
    {
     "data": {
      "text/plain": [
       "([u**3, u*u_x1**2], [], 21)"
      ]
     },
     "execution_count": 4,
     "metadata": {},
     "output_type": "execute_result"
    }
   ],
   "source": [
    "quadratize([(u, u_t)], sort_fun='by_order_degree', max_der_order=3, printing='pprint')"
   ]
  },
  {
   "cell_type": "markdown",
   "metadata": {},
   "source": [
    "### 2. Change the bound of maximum number of new variables\n",
    "\n",
    "The default number for this parameter is 10. If we want to quadratize a PDE that is simple in terms of polynomial degrees, we may want to decrease the bound on the number of variables to find the optimal quadratization faster. Or if a PDE has higher degrees, we may want to increase this bound. To do this, we just arbitrarly set the parameter `nvars_bound`. In our example, if we change this bound to 4, we obtain an optimal quadratization faster:"
   ]
  },
  {
   "cell_type": "code",
   "execution_count": 6,
   "metadata": {},
   "outputs": [
    {
     "name": "stdout",
     "output_type": "stream",
     "text": [
      "\n",
      "Quadratization:\n",
      "      3\n",
      "w₀ = u \n",
      "          2\n",
      "w₁ = u⋅uₓ₁ \n",
      "\n",
      "Quadratic PDE:\n",
      "w₀ₜ = w₀⋅w₀ₓ₃ - 2⋅w₀ₓ₁⋅w₀ₓ₂ + 10⋅w₀ₓ₁⋅w₁\n",
      "                              2⋅w₀ₓ₂⋅w₀ₓ₃                           \n",
      "w₁ₜ = w₀⋅w₁ₓ₃ + 2⋅w₀ₓ₁⋅w₁ₓ₂ - ─────────── + 2⋅w₀ₓ₂⋅w₁ₓ₁ + 12⋅w₁⋅w₁ₓ₁\n",
      "                                   3                                \n",
      "uₜ = uₓ₃⋅w₀\n"
     ]
    },
    {
     "data": {
      "text/plain": [
       "([u**3, u*u_x1**2], [], 21)"
      ]
     },
     "execution_count": 6,
     "metadata": {},
     "output_type": "execute_result"
    }
   ],
   "source": [
    "quadratize([(u, u_t)], nvars_bound=4, printing='pprint')"
   ]
  },
  {
   "cell_type": "markdown",
   "metadata": {},
   "source": [
    "### 3. Change the symbol for the first independent variable\n",
    "\n",
    "By default, this parameter is *t*. If we want to change the symbol of the first independent variable, we set the parameter `first_indep` equal to the new symbol. Note that changing the symbol for the second independent variable can be done just by defining the equation in Sympy with this new symbol. "
   ]
  },
  {
   "cell_type": "code",
   "execution_count": 26,
   "metadata": {},
   "outputs": [
    {
     "name": "stdout",
     "output_type": "stream",
     "text": [
      "\n",
      "Quadratization:\n",
      "      3\n",
      "w₀ = v \n",
      "           2\n",
      "w₁ = v⋅v_y1 \n",
      "\n",
      "Quadratic PDE:\n",
      "                                2⋅w_0y1⋅w_0y2\n",
      "w_0z = w₀⋅w_0y3 - 10⋅w₀⋅w_1y1 + ─────────────\n",
      "                                      9      \n",
      "                  2⋅w_0y2⋅w_0y3                                           \n",
      "w_1z = w₀⋅w_1y3 - ───────────── + 4⋅w_0y2⋅w_1y1 + 4⋅w_0y3⋅w₁ - 24⋅w₁⋅w_1y1\n",
      "                        3                                                 \n",
      "v_z = v_y3⋅w₀\n"
     ]
    },
    {
     "data": {
      "text/plain": [
       "([v**3, v*v_y1**2], [], 21)"
      ]
     },
     "execution_count": 26,
     "metadata": {},
     "output_type": "execute_result"
    }
   ],
   "source": [
    "z=sp.symbols('z')\n",
    "y=sp.symbols('y')\n",
    "v=sp.Function('v')(z,y)\n",
    "\n",
    "vz = v**3 * sp.Derivative(v, y, 3)\n",
    "\n",
    "quadratize([(v, vz)], first_indep=z, printing='pprint')"
   ]
  },
  {
   "cell_type": "markdown",
   "metadata": {},
   "source": [
    "### 4. Change the maximum order of derivatives\n",
    "\n",
    "By default, we prune every branch that introduces spatial derivatives of higher order than those within the original equations. To change this parameter, we set `max_der_order` to the desired maximum order. An important note is that in some cases, we need to relax this limit to obtain a quadratization for a PDE. For example, if run *quadratize* for the equation"
   ]
  },
  {
   "cell_type": "code",
   "execution_count": 22,
   "metadata": {},
   "outputs": [
    {
     "name": "stdout",
     "output_type": "stream",
     "text": [
      "Quadratization not found\n"
     ]
    },
    {
     "data": {
      "text/plain": [
       "([], 9)"
      ]
     },
     "execution_count": 22,
     "metadata": {},
     "output_type": "execute_result"
    }
   ],
   "source": [
    "ut2 =  sp.Derivative(u, x)**3 + u**3\n",
    "quadratize([(u, ut2)], printing = 'pprint')"
   ]
  },
  {
   "cell_type": "markdown",
   "metadata": {},
   "source": [
    "the algorithm does not find a quadratization. Now, if we relax the maximum order of derivatives rule and allow derivatives up to order 3, we obtain a different result "
   ]
  },
  {
   "cell_type": "code",
   "execution_count": 23,
   "metadata": {},
   "outputs": [
    {
     "name": "stdout",
     "output_type": "stream",
     "text": [
      "\n",
      "Quadratization:\n",
      "      2\n",
      "w₀ = u \n",
      "        2\n",
      "w₁ = uₓ₁ \n",
      "\n",
      "Quadratic PDE:\n",
      "          2          \n",
      "w₀ₜ = 2⋅w₀  + w₀ₓ₁⋅w₁\n",
      "w₁ₜ = 6⋅w₀⋅w₁ + 3⋅w₁⋅w₁ₓ₁\n",
      "            u⋅w₀ₓ₃   uₓ₁⋅w₀ₓ₂   uₓ₃⋅w₀\n",
      "uₜ = u⋅w₀ - ────── + ──────── + ──────\n",
      "              6         2         3   \n"
     ]
    },
    {
     "data": {
      "text/plain": [
       "([u**2, u_x1**2], [], 7)"
      ]
     },
     "execution_count": 23,
     "metadata": {},
     "output_type": "execute_result"
    }
   ],
   "source": [
    "quadratize([(u, ut2)], max_der_order=3, printing = 'pprint')"
   ]
  },
  {
   "cell_type": "markdown",
   "metadata": {},
   "source": [
    "### 5. Change the search algorithm \n",
    "\n",
    "The default algorithm for searching a quadratization is the branch-and-bound framework. To change this, set the parameter `search_alg` to either `'bnb'` for branch-and-bound, or `'inn'` for the incremental nearest neighbor implementation. "
   ]
  },
  {
   "cell_type": "code",
   "execution_count": 28,
   "metadata": {},
   "outputs": [
    {
     "name": "stdout",
     "output_type": "stream",
     "text": [
      "\n",
      "Quadratization:\n",
      "      3\n",
      "w₀ = v \n",
      "           2\n",
      "w₁ = v⋅v_y1 \n",
      "\n",
      "Quadratic PDE:\n",
      "                                2⋅w_0y1⋅w_0y2\n",
      "w_0z = w₀⋅w_0y3 - 10⋅w₀⋅w_1y1 + ─────────────\n",
      "                                      9      \n",
      "                  2⋅w_0y2⋅w_0y3                                           \n",
      "w_1z = w₀⋅w_1y3 - ───────────── + 4⋅w_0y2⋅w_1y1 + 4⋅w_0y3⋅w₁ - 24⋅w₁⋅w_1y1\n",
      "                        3                                                 \n",
      "v_z = v_y3⋅w₀\n"
     ]
    },
    {
     "data": {
      "text/plain": [
       "([v**3, v*v_y1**2], [], 10)"
      ]
     },
     "execution_count": 28,
     "metadata": {},
     "output_type": "execute_result"
    }
   ],
   "source": [
    "quadratize([(v, vz)], first_indep=z, search_alg='inn', printing='pprint')"
   ]
  },
  {
   "cell_type": "markdown",
   "metadata": {},
   "source": [
    "## Other examples\n",
    "### Allen-Cahn equation\n",
    "\n",
    "First, we run QuPDE for the Allen-Cahn equation, described by the PDE $$u_t = u_{xx} + u - u^3.$$ This time, we print the result in LaTeX format. "
   ]
  },
  {
   "cell_type": "code",
   "execution_count": null,
   "metadata": {},
   "outputs": [],
   "source": [
    "t, x = sp.symbols('t x')\n",
    "u = sp.Function('u')(t,x)\n",
    "\n",
    "u_t = D(u, x, 2) + u - u**3 \n",
    "\n",
    "quadratize([(u, u_t)], printing='latex')"
   ]
  },
  {
   "cell_type": "markdown",
   "metadata": {},
   "source": [
    "### FitzHugh-Nagamo system\n",
    "\n",
    "The FitzHugh-Nagamo system is a simplified neuron model of the Hodgkin-Huxley model, which describes activation and deactivation dynamics of a spiking neuron. Its governing equations are\n",
    "\n",
    "$$ v_t = \\epsilon v_{xx} + \\dfrac{1}{\\epsilon}v(v - 0.1)(1 - v) - \\dfrac{1}{\\epsilon}u + \\dfrac{1}{\\epsilon}q, $$\n",
    "$$ u_t = hv - \\gamma u + q. $$\n",
    "\n",
    "We define the symbolic coefficients first to use QuPDE on this equation. "
   ]
  },
  {
   "cell_type": "code",
   "execution_count": 29,
   "metadata": {},
   "outputs": [
    {
     "name": "stdout",
     "output_type": "stream",
     "text": [
      "\n",
      "Quadratization:\n",
      "      2\n",
      "w₀ = v \n",
      "\n",
      "Quadratic PDE:\n",
      "         2                 11⋅v⋅w₀               2   w₀\n",
      "w₀ₜ = 2⋅ε ⋅v⋅vₓ₂ + 2⋅r⋅v - ─────── - 2⋅v⋅y + 2⋅w₀  + ──\n",
      "                              5                      5 \n",
      "      2                  v    11⋅w₀    \n",
      "vₜ = ε ⋅vₓ₂ + r + v⋅w₀ + ── - ───── - y\n",
      "                         10     10     \n",
      "yₜ = -γ⋅y + h⋅v + r\n"
     ]
    },
    {
     "data": {
      "text/plain": [
       "([v**2], [], 3)"
      ]
     },
     "execution_count": 29,
     "metadata": {},
     "output_type": "execute_result"
    }
   ],
   "source": [
    "t, x = sp.symbols('t x')\n",
    "v = sp.Function('v')(t,x)\n",
    "y = sp.Function('y')(t,x)\n",
    "epsilon, h, gamma, r = sp.symbols('epsilon h gamma r', constant=True)\n",
    "\n",
    "v_t = epsilon * sp.Derivative(v, x, 2) - (1/epsilon) * (v * (v - 0.1) * (1 - v)) - y/epsilon + r/epsilon\n",
    "y_t = h * v - gamma * y + r\n",
    "\n",
    "quadratize([(v, v_t), (y, y_t)], search_alg='bnb', printing='pprint')"
   ]
  }
 ],
 "metadata": {
  "kernelspec": {
   "display_name": "3.10.12",
   "language": "python",
   "name": "python3"
  },
  "language_info": {
   "codemirror_mode": {
    "name": "ipython",
    "version": 3
   },
   "file_extension": ".py",
   "mimetype": "text/x-python",
   "name": "python",
   "nbconvert_exporter": "python",
   "pygments_lexer": "ipython3",
   "version": "3.10.12"
  }
 },
 "nbformat": 4,
 "nbformat_minor": 2
}
