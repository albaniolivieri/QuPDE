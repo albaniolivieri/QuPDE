{
 "cells": [
  {
   "cell_type": "markdown",
   "metadata": {},
   "source": [
    "# QuPDE usage examples\n",
    "\n",
    "QuPDE is a Python library that finds a quadratic transformation (quadratization) for nonquadratic PDEs built using Sympy objects. QuPDE handles spatially one-dimensional PDEs that are polynomial or rational. \n",
    "\n",
    "First we import Sympy and QuPDE "
   ]
  },
  {
   "cell_type": "code",
   "execution_count": 2,
   "metadata": {},
   "outputs": [],
   "source": [
    "import sympy as sp\n",
    "from qupde import quadratize"
   ]
  },
  {
   "cell_type": "markdown",
   "metadata": {},
   "source": [
    "## General usage\n",
    "### Korteweg-de Vries equation\n",
    "\n",
    "The Korteweg-de Vries (KdV) equation is a model for the study of weakly nonlinear long waves, incorporating leading nonlinearity and dispersion: \n",
    "\n",
    "$$u_t = au^2 u_x - u_{xxx}.$$\n",
    "\n",
    "Let us find a quadratization for the KdV equation using QuPDE. First, we write the differential equation using Sympy objects:"
   ]
  },
  {
   "cell_type": "code",
   "execution_count": 3,
   "metadata": {},
   "outputs": [],
   "source": [
    "t, x = sp.symbols('t x')\n",
    "u = sp.Function('u')(t,x)\n",
    "a = sp.symbols('a', constant=True)\n",
    "\n",
    "u_t =  a * u**2 * sp.Derivative(u, x) - sp.Derivative(u, x, 3)"
   ]
  },
  {
   "cell_type": "markdown",
   "metadata": {},
   "source": [
    "To find a quadratization for the PDE we use the main function of the software called *quadratize*. This function receives as input the PDE as a list of tuples, where each tuple represents a differential equation. The first entry of each tuple is an undefined function and the second entry is its corresponding differential equation right-hand side. In our example: "
   ]
  },
  {
   "cell_type": "code",
   "execution_count": 4,
   "metadata": {},
   "outputs": [],
   "source": [
    "new_pde = quadratize([(u, u_t)])"
   ]
  },
  {
   "cell_type": "markdown",
   "metadata": {},
   "source": [
    "This function returns an object with the PDE quadratic transformation that stores the new PDE and the auxiliary variables introduced. We can get the auxiliary variables and the quadratic transformation by running"
   ]
  },
  {
   "cell_type": "code",
   "execution_count": 5,
   "metadata": {},
   "outputs": [
    {
     "data": {
      "text/plain": [
       "([u**2], [])"
      ]
     },
     "execution_count": 5,
     "metadata": {},
     "output_type": "execute_result"
    }
   ],
   "source": [
    "new_pde.get_aux_vars()"
   ]
  },
  {
   "cell_type": "code",
   "execution_count": 6,
   "metadata": {},
   "outputs": [
    {
     "data": {
      "text/plain": [
       "[Eq(w_0t, a*w_0*w_0x1 - 2*u*u_x3), Eq(u_t, a*u_x1*w_0 - u_x3)]"
      ]
     },
     "execution_count": 6,
     "metadata": {},
     "output_type": "execute_result"
    }
   ],
   "source": [
    "new_pde.get_quad_sys()"
   ]
  },
  {
   "cell_type": "markdown",
   "metadata": {},
   "source": [
    "Now, if we want to see the quadratization and the transformed PDE in a more readable format, we call the same function but with the optional *printing* parameter with the available printing options: \n",
    "- `'pprint'` for pretty printing (Sympy's functionality).\n",
    "- `'latex'` for printing the result in LaTeX format. "
   ]
  },
  {
   "cell_type": "code",
   "execution_count": 7,
   "metadata": {},
   "outputs": [
    {
     "name": "stdout",
     "output_type": "stream",
     "text": [
      "\n",
      "Quadratization:\n",
      "      2\n",
      "w₀ = u \n",
      "\n",
      "Quadratic PDE:\n",
      "w₀ₜ = a⋅w₀⋅w₀ₓ₁ - 2⋅u⋅uₓ₃\n",
      "uₜ = a⋅uₓ₁⋅w₀ - uₓ₃\n"
     ]
    },
    {
     "data": {
      "text/plain": [
       "<qupde.pde_sys.PDESys at 0x124007d00>"
      ]
     },
     "execution_count": 7,
     "metadata": {},
     "output_type": "execute_result"
    }
   ],
   "source": [
    "quadratize([(u, u_t)], printing='pprint')"
   ]
  },
  {
   "cell_type": "code",
   "execution_count": 8,
   "metadata": {},
   "outputs": [
    {
     "name": "stdout",
     "output_type": "stream",
     "text": [
      "\n",
      "Quadratization:\n",
      "w_{0} = u^{2}\n",
      "\n",
      "Quadratic PDE:\n",
      "w_{0t} = a w_{0} w_{0x1} - 2 u u_{x3}\n",
      "u_{t} = a u_{x1} w_{0} - u_{x3}\n"
     ]
    },
    {
     "data": {
      "text/plain": [
       "<qupde.pde_sys.PDESys at 0x12402b5b0>"
      ]
     },
     "execution_count": 8,
     "metadata": {},
     "output_type": "execute_result"
    }
   ],
   "source": [
    "quadratize([(u, u_t)], printing='latex')"
   ]
  },
  {
   "cell_type": "markdown",
   "metadata": {},
   "source": [
    "## *Quadratize* parameters\n",
    "\n",
    "The *quadratize* function has additional parameters that the user can modify. These correspond to: \n",
    "1. The differential order of the quadratization, which determines determines the maximum spatial derivative order of the original PDE variables (regularity restriction).  \n",
    "2. The heuristic to sort each set of new variables introduced when searching for an optimal quadratization.\n",
    "3. The bound of the maximum number of auxiliary variables to explore. \n",
    "4. The symbol of the first independent variable (default is *t*). \n",
    "5. The maximum order of spatial derivatives of the unknown functions allowed within the auxiliary variables. \n",
    "6. The search algorithm.\n",
    "7. The printing format for displaying the quadratization and the quadratic PDE. \n",
    "\n",
    "We offer examples to show how some of them work. "
   ]
  },
  {
   "cell_type": "markdown",
   "metadata": {},
   "source": [
    "### 1. Change the differential order of the quadratization\n",
    "By default, this value is set to the maximum order of derivatives found for the unknown functions in the PDE. It is important to note that the order of derivatives allowed directly affects the algorithm's ability to find a quadratization. For example, if we set this value to 0 for the KDV equation, we obtain an unsuccesful search. "
   ]
  },
  {
   "cell_type": "code",
   "execution_count": 48,
   "metadata": {},
   "outputs": [
    {
     "name": "stdout",
     "output_type": "stream",
     "text": [
      "Quadratization not found\n"
     ]
    },
    {
     "data": {
      "text/plain": [
       "[]"
      ]
     },
     "execution_count": 48,
     "metadata": {},
     "output_type": "execute_result"
    }
   ],
   "source": [
    "quadratize([(u, u_t)], diff_ord=0)"
   ]
  },
  {
   "cell_type": "markdown",
   "metadata": {},
   "source": [
    "In some cases, increasing this parameter will be required to obtain a quadratization. "
   ]
  },
  {
   "cell_type": "markdown",
   "metadata": {},
   "source": [
    "### 2. Change sorting heuristic\n",
    "In the algorithm, there are three heuristics implemented: \n",
    "- By order of derivatives and total degree of the monomials (`by_order_degree`)\n",
    "- By total degree and order of derivatives of the monomials (`by_degree_order`). \n",
    "- By the function: $degree + 2 \\cdot order$ (`by_fun`).\n",
    "\n",
    "The default option implemented is `by_fun`. If we want to use the sorting function `by_order_degree` to find a quadratization, we run"
   ]
  },
  {
   "cell_type": "code",
   "execution_count": 10,
   "metadata": {},
   "outputs": [
    {
     "name": "stdout",
     "output_type": "stream",
     "text": [
      "\n",
      "Quadratization:\n",
      "      2\n",
      "w₀ = u \n",
      "\n",
      "Quadratic PDE:\n",
      "w₀ₜ = a⋅w₀⋅w₀ₓ₁ - 2⋅u⋅uₓ₃\n",
      "uₜ = a⋅uₓ₁⋅w₀ - uₓ₃\n"
     ]
    },
    {
     "data": {
      "text/plain": [
       "<qupde.pde_sys.PDESys at 0x1050d94e0>"
      ]
     },
     "execution_count": 10,
     "metadata": {},
     "output_type": "execute_result"
    }
   ],
   "source": [
    "quadratize([(u, u_t)], sort_fun='by_order_degree', printing='pprint')"
   ]
  },
  {
   "cell_type": "markdown",
   "metadata": {},
   "source": [
    "### 3. Change the bound of maximum number of new variables\n",
    "\n",
    "The default number for this parameter is 10. If we want to quadratize a PDE that is simple in terms of polynomial degrees, we may want to decrease the bound on the number of variables to find the optimal quadratization faster. Or if a PDE system has higher degree, we may want to increase this bound. To do this, we just arbitrarly set the parameter `nvars_bound`. In our example, if we change this bound to 4, we obtain an optimal quadratization faster:"
   ]
  },
  {
   "cell_type": "code",
   "execution_count": 14,
   "metadata": {},
   "outputs": [
    {
     "name": "stdout",
     "output_type": "stream",
     "text": [
      "\n",
      "Quadratization:\n",
      "      2\n",
      "w₀ = u \n",
      "\n",
      "Quadratic PDE:\n",
      "w₀ₜ = a⋅w₀⋅w₀ₓ₁ - 2⋅u⋅uₓ₃\n",
      "uₜ = a⋅uₓ₁⋅w₀ - uₓ₃\n",
      "Total time with nvars_bound=10:  0.10163307189941406\n",
      "\n",
      "Quadratization:\n",
      "      2\n",
      "w₀ = u \n",
      "\n",
      "Quadratic PDE:\n",
      "w₀ₜ = a⋅w₀⋅w₀ₓ₁ - 2⋅u⋅uₓ₃\n",
      "uₜ = a⋅uₓ₁⋅w₀ - uₓ₃\n",
      "Total time with nvars_bound=2:  0.08348965644836426\n"
     ]
    }
   ],
   "source": [
    "import time\n",
    "\n",
    "ti = time.time()\n",
    "quadratize([(u, u_t)], printing='pprint')\n",
    "print('Total time with nvars_bound=10: ', time.time()-ti)\n",
    "\n",
    "ti = time.time()\n",
    "quadratize([(u, u_t)], nvars_bound=2, printing='pprint')\n",
    "\n",
    "print('Total time with nvars_bound=2: ', time.time()-ti)"
   ]
  },
  {
   "cell_type": "markdown",
   "metadata": {},
   "source": [
    "### 4. Change the symbol for the first independent variable\n",
    "\n",
    "By default, this parameter is *t*. If we want to change the symbol of the first independent variable, we set the parameter `first_indep` equal to the new symbol. Note that changing the symbol for the second independent variable can be done just by defining the equation in Sympy with this new symbol. "
   ]
  },
  {
   "cell_type": "code",
   "execution_count": 17,
   "metadata": {},
   "outputs": [
    {
     "name": "stdout",
     "output_type": "stream",
     "text": [
      "\n",
      "Quadratization:\n",
      "      2\n",
      "w₀ = v \n",
      "\n",
      "Quadratic PDE:\n",
      "w_0z = a⋅w₀⋅w_0y1 + 6⋅v_y1⋅v_y2 - w_0y3\n",
      "v_z = a⋅v_y1⋅w₀ - v_y3\n"
     ]
    },
    {
     "data": {
      "text/plain": [
       "<qupde.pde_sys.PDESys at 0x1242a7400>"
      ]
     },
     "execution_count": 17,
     "metadata": {},
     "output_type": "execute_result"
    }
   ],
   "source": [
    "z=sp.symbols('z')\n",
    "y=sp.symbols('y')\n",
    "v=sp.Function('v')(z,y)\n",
    "\n",
    "vz = a * v**2 * sp.Derivative(v, y) - sp.Derivative(v, y, 3)\n",
    "\n",
    "quadratize([(v, vz)], first_indep=z, printing='pprint')"
   ]
  },
  {
   "cell_type": "markdown",
   "metadata": {},
   "source": [
    "### 5. Change the maximum order of derivatives of the auxiliary variables\n",
    "\n",
    "By default, we prune every branch that introduces spatial derivatives of higher order than those within the original equations. To change this parameter, we set `max_der_order` to the desired maximum order. An important note is that in some cases, we need to relax this limit to obtain a quadratization for a PDE. For example, if we run *quadratize* for the equation"
   ]
  },
  {
   "cell_type": "code",
   "execution_count": 49,
   "metadata": {},
   "outputs": [
    {
     "name": "stdout",
     "output_type": "stream",
     "text": [
      "Quadratization not found\n"
     ]
    },
    {
     "data": {
      "text/plain": [
       "[]"
      ]
     },
     "execution_count": 49,
     "metadata": {},
     "output_type": "execute_result"
    }
   ],
   "source": [
    "ut2 =  sp.Derivative(u, x, 2)**2*u\n",
    "quadratize([(u, ut2)], diff_ord=4, printing = 'pprint', max_der_order=1)"
   ]
  },
  {
   "cell_type": "markdown",
   "metadata": {},
   "source": [
    "the algorithm does not find a quadratization. Now, if we relax the maximum order of derivatives rule and allow derivatives up to order 2, we obtain a different result "
   ]
  },
  {
   "cell_type": "code",
   "execution_count": 50,
   "metadata": {},
   "outputs": [
    {
     "name": "stdout",
     "output_type": "stream",
     "text": [
      "\n",
      "Quadratization:\n",
      "w₀ = u⋅uₓ₂\n",
      "        2\n",
      "w₁ = uₓ₁ \n",
      "\n",
      "Quadratic PDE:\n",
      "                                              2\n",
      "                        2                 w₁ₓ₁ \n",
      "w₀ₜ = 2⋅w₀⋅w₀ₓ₂ + 2⋅w₀ₓ₁  - 2⋅w₀ₓ₁⋅w₁ₓ₁ + ─────\n",
      "                                            2  \n",
      "                        2\n",
      "                    w₁ₓ₁ \n",
      "w₁ₜ = 2⋅w₀ₓ₁⋅w₁ₓ₁ - ─────\n",
      "                      2  \n",
      "uₜ = uₓ₂⋅w₀\n"
     ]
    },
    {
     "data": {
      "text/plain": [
       "<qupde.pde_sys.PDESys at 0x12457e410>"
      ]
     },
     "execution_count": 50,
     "metadata": {},
     "output_type": "execute_result"
    }
   ],
   "source": [
    "quadratize([(u, ut2)], diff_ord=4, printing = 'pprint', max_der_order=2)"
   ]
  },
  {
   "cell_type": "markdown",
   "metadata": {},
   "source": [
    "### 6. Change the search algorithm \n",
    "\n",
    "The default algorithm for searching a quadratization is the branch-and-bound framework. To change this, set the parameter `search_alg` to either `'bnb'` for branch-and-bound, or `'inn'` for the incremental nearest neighbor implementation. "
   ]
  },
  {
   "cell_type": "code",
   "execution_count": 47,
   "metadata": {},
   "outputs": [
    {
     "name": "stdout",
     "output_type": "stream",
     "text": [
      "\n",
      "Quadratization:\n",
      "      2\n",
      "w₀ = v \n",
      "\n",
      "Quadratic PDE:\n",
      "w_0z = a⋅w₀⋅w_0y1 + 6⋅v_y1⋅v_y2 - w_0y3\n",
      "v_z = a⋅v_y1⋅w₀ - v_y3\n"
     ]
    },
    {
     "data": {
      "text/plain": [
       "<qupde.pde_sys.PDESys at 0x124019690>"
      ]
     },
     "execution_count": 47,
     "metadata": {},
     "output_type": "execute_result"
    }
   ],
   "source": [
    "quadratize([(v, vz)], first_indep=z, search_alg='inn', printing='pprint')"
   ]
  },
  {
   "cell_type": "markdown",
   "metadata": {},
   "source": [
    "## Other examples\n",
    "### Allen-Cahn equation\n",
    "\n",
    "First, we run QuPDE for the Allen-Cahn equation, described by the PDE $$u_t = u_{xx} + u - u^3.$$ This time, we print the result in LaTeX format. "
   ]
  },
  {
   "cell_type": "code",
   "execution_count": 51,
   "metadata": {},
   "outputs": [
    {
     "name": "stdout",
     "output_type": "stream",
     "text": [
      "\n",
      "Quadratization:\n",
      "w_{0} = u^{2}\n",
      "\n",
      "Quadratic PDE:\n",
      "w_{0t} = 2 u^{2} + 2 u u_{x2} - 2 w_{0}^{2}\n",
      "u_{t} = - u w_{0} + u + u_{x2}\n"
     ]
    },
    {
     "data": {
      "text/plain": [
       "<qupde.pde_sys.PDESys at 0x124b98070>"
      ]
     },
     "execution_count": 51,
     "metadata": {},
     "output_type": "execute_result"
    }
   ],
   "source": [
    "t, x = sp.symbols('t x')\n",
    "u = sp.Function('u')(t,x)\n",
    "\n",
    "u_t = sp.Derivative(u, x, 2) + u - u**3 \n",
    "\n",
    "quadratize([(u, u_t)], printing='latex')"
   ]
  },
  {
   "cell_type": "markdown",
   "metadata": {},
   "source": [
    "### FitzHugh-Nagamo system\n",
    "\n",
    "The FitzHugh-Nagamo system is a simplified neuron model of the Hodgkin-Huxley model, which describes activation and deactivation dynamics of a spiking neuron. Its governing equations are\n",
    "\n",
    "$$ v_t = \\epsilon v_{xx} + \\dfrac{1}{\\epsilon}v(v - 0.1)(1 - v) - \\dfrac{1}{\\epsilon}u + \\dfrac{1}{\\epsilon}q, $$\n",
    "$$ u_t = hv - \\gamma u + q. $$\n",
    "\n",
    "We define the symbolic coefficients first to use QuPDE on this equation. "
   ]
  },
  {
   "cell_type": "code",
   "execution_count": 52,
   "metadata": {},
   "outputs": [
    {
     "name": "stdout",
     "output_type": "stream",
     "text": [
      "\n",
      "Quadratization:\n",
      "      2\n",
      "w₀ = v \n",
      "\n",
      "Quadratic PDE:\n",
      "         2 ⎛     2   w₀ₓ₂⎞           11⋅v⋅w₀               2   w₀\n",
      "w₀ₜ = 2⋅ε ⋅⎜- vₓ₁  + ────⎟ + 2⋅r⋅v - ─────── - 2⋅v⋅y + 2⋅w₀  + ──\n",
      "           ⎝          2  ⎠              5                      5 \n",
      "      2                  v    11⋅w₀    \n",
      "vₜ = ε ⋅vₓ₂ + r + v⋅w₀ + ── - ───── - y\n",
      "                         10     10     \n",
      "yₜ = -γ⋅y + h⋅v + r\n"
     ]
    },
    {
     "data": {
      "text/plain": [
       "<qupde.pde_sys.PDESys at 0x124b98370>"
      ]
     },
     "execution_count": 52,
     "metadata": {},
     "output_type": "execute_result"
    }
   ],
   "source": [
    "t, x = sp.symbols('t x')\n",
    "v = sp.Function('v')(t,x)\n",
    "y = sp.Function('y')(t,x)\n",
    "epsilon, h, gamma, r = sp.symbols('epsilon h gamma r', constant=True)\n",
    "\n",
    "v_t = epsilon * sp.Derivative(v, x, 2) - (1/epsilon) * (v * (v - 0.1) * (1 - v)) - y/epsilon + r/epsilon\n",
    "y_t = h * v - gamma * y + r\n",
    "\n",
    "quadratize([(v, v_t), (y, y_t)], search_alg='bnb', printing='pprint')"
   ]
  }
 ],
 "metadata": {
  "kernelspec": {
   "display_name": "penv (3.10.12)",
   "language": "python",
   "name": "python3"
  },
  "language_info": {
   "codemirror_mode": {
    "name": "ipython",
    "version": 3
   },
   "file_extension": ".py",
   "mimetype": "text/x-python",
   "name": "python",
   "nbconvert_exporter": "python",
   "pygments_lexer": "ipython3",
   "version": "3.10.12"
  }
 },
 "nbformat": 4,
 "nbformat_minor": 2
}
